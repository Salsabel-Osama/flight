{
 "cells": [
  {
   "cell_type": "code",
   "execution_count": 7,
   "id": "dad61ca2",
   "metadata": {},
   "outputs": [
    {
     "name": "stdout",
     "output_type": "stream",
     "text": [
      "(1, 'Mazen')\n",
      "(2, 'Shahd')\n",
      "(3, 'Abduallah')\n",
      "(3, 'Abduallah')\n"
     ]
    }
   ],
   "source": [
    "import sqlite3\n",
    "conn = sqlite3.connect('./shared/alex_student.db')\n",
    "cursor = conn.cursor()\n",
    "cursor.execute(\"SELECT * FROM tasks\")\n",
    "tasks = cursor.fetchall()\n",
    "for i in tasks:\n",
    "  print (i)\n",
    "cursor.close()    \n",
    "conn.close()"
   ]
  }
 ],
 "metadata": {
  "kernelspec": {
   "display_name": "base",
   "language": "python",
   "name": "python3"
  },
  "language_info": {
   "codemirror_mode": {
    "name": "ipython",
    "version": 3
   },
   "file_extension": ".py",
   "mimetype": "text/x-python",
   "name": "python",
   "nbconvert_exporter": "python",
   "pygments_lexer": "ipython3",
   "version": "3.8.8"
  }
 },
 "nbformat": 4,
 "nbformat_minor": 5
}
